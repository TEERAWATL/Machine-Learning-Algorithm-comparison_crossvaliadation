{
 "cells": [
  {
   "cell_type": "markdown",
   "id": "45dc45fc",
   "metadata": {},
   "source": [
    "# Import Libary"
   ]
  },
  {
   "cell_type": "code",
   "execution_count": 1,
   "id": "74eae77e",
   "metadata": {},
   "outputs": [],
   "source": [
    "import pandas as pd\n",
    "import numpy as np\n",
    "import matplotlib.pyplot as plt\n",
    "import seaborn as sns \n",
    "\n",
    "from sklearn.model_selection import train_test_split\n",
    "from sklearn.model_selection import cross_val_score\n",
    "\n",
    "from sklearn.linear_model import LogisticRegression\n",
    "from sklearn.neighbors import KNeighborsClassifier \n",
    "from sklearn.naive_bayes import GaussianNB\n",
    "from sklearn.svm import SVC\n",
    "from sklearn.ensemble import RandomForestClassifier\n",
    "from sklearn.tree import DecisionTreeClassifier\n",
    "\n",
    "import warnings\n",
    "warnings.filterwarnings('ignore')\n",
    "\n",
    "np.random.seed(123)"
   ]
  },
  {
   "cell_type": "markdown",
   "id": "bca14f19",
   "metadata": {},
   "source": [
    "# Import Data \n",
    "(Classification data = binary)"
   ]
  },
  {
   "cell_type": "code",
   "execution_count": 2,
   "id": "92dfa3c1",
   "metadata": {},
   "outputs": [],
   "source": [
    "df = pd.read_csv('C:/Data_science/Data Preprocessing/algorithms comparison/diabetes_binary_health_indicators_BRFSS2015.csv')"
   ]
  },
  {
   "cell_type": "code",
   "execution_count": 3,
   "id": "6a31d869",
   "metadata": {},
   "outputs": [],
   "source": [
    "target_name = 'Diabetes_binary'\n",
    "feature_name = list(df.columns.drop(target_name))\n",
    "\n",
    "X = df[feature_name]\n",
    "y = df[target_name]\n",
    "\n",
    "X_train, X_test, y_train, y_test = train_test_split(X, y, test_size=0.20, shuffle=True)"
   ]
  },
  {
   "cell_type": "markdown",
   "id": "044822e8",
   "metadata": {},
   "source": [
    "# Set list of model"
   ]
  },
  {
   "cell_type": "code",
   "execution_count": 4,
   "id": "9499d962",
   "metadata": {},
   "outputs": [],
   "source": [
    "models = []\n",
    "\n",
    "models.append(('LR', LogisticRegression()))\n",
    "models.append(('kNN', KNeighborsClassifier()))\n",
    "models.append(('NB', GaussianNB()))\n",
    "models.append(('RFC', RandomForestClassifier()))\n",
    "models.append(('DT', DecisionTreeClassifier()))"
   ]
  },
  {
   "cell_type": "markdown",
   "id": "302929d1",
   "metadata": {},
   "source": [
    "# Loop models by Cross validation"
   ]
  },
  {
   "cell_type": "code",
   "execution_count": 10,
   "id": "d6a1761a",
   "metadata": {},
   "outputs": [
    {
     "name": "stdout",
     "output_type": "stream",
     "text": [
      "LR 0.8626911816839392 0.001254801750634629\n",
      "kNN 0.8478989252178731 0.0018058129162406397\n",
      "NB 0.7740657748684872 0.0022980438473193285\n",
      "RFC 0.8603013724852211 0.0013244706447796332\n",
      "DT 0.7978062780161923 0.0017615355925752543\n"
     ]
    }
   ],
   "source": [
    "results = []\n",
    "names = []\n",
    "\n",
    "for name, model in models:\n",
    "    cvs = cross_val_score(model, X_train, y_train, cv=10)\n",
    "    results.append(cvs)\n",
    "    names.append(name)\n",
    "    print(name , cvs.mean(), cvs.std())"
   ]
  },
  {
   "cell_type": "code",
   "execution_count": 11,
   "id": "21c2d505",
   "metadata": {},
   "outputs": [
    {
     "data": {
      "image/png": "[encoded data removed]",
      "text/plain": [
       "<Figure size 432x288 with 1 Axes>"
      ]
     },
     "metadata": {
      "needs_background": "light"
     },
     "output_type": "display_data"
    }
   ],
   "source": [
    "fig = plt.figure()\n",
    "fig.suptitle('Algorithm Comparison')\n",
    "ax = fig.add_subplot(111)\n",
    "plt.boxplot(results)\n",
    "ax.set_xticklabels(names)\n",
    "plt.show()"
   ]
  },
  {
   "cell_type": "code",
   "execution_count": null,
   "id": "6ee4639f",
   "metadata": {},
   "outputs": [],
   "source": []
  }
 ],
 "metadata": {
  "kernelspec": {
   "display_name": "Python 3 (ipykernel)",
   "language": "python",
   "name": "python3"
  },
  "language_info": {
   "codemirror_mode": {
    "name": "ipython",
    "version": 3
   },
   "file_extension": ".py",
   "mimetype": "text/x-python",
   "name": "python",
   "nbconvert_exporter": "python",
   "pygments_lexer": "ipython3",
   "version": "3.9.15"
  }
 },
 "nbformat": 4,
 "nbformat_minor": 5
}
